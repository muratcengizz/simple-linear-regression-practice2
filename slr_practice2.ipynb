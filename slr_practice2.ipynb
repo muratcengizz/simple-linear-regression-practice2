{
 "cells": [
  {
   "cell_type": "markdown",
   "id": "a9eaddee-cf35-440a-9cfd-62c2e6bd3379",
   "metadata": {},
   "source": [
    "# Basit Doğrusal Regresyon - Model Tuning - Model Doğrulama"
   ]
  },
  {
   "cell_type": "markdown",
   "id": "03483e94-23e0-49c9-bf1d-b364fa338d61",
   "metadata": {},
   "source": [
    "### Cengiz otomotiv, bir otomobil satıcısıdır ve müşterilerine ikinci el arabalar satmaktadır. ABC otomotiv, araba fiyatlarını belirlemek için araba kilometrelerini gibi faktörler kullanır. Ancak, fiyatlandırma konusunda doğru bilgiye sahip olmadıkları için, bazen müşterilere yanlış fiyatlar teklif ederler. Bu nedenle, Cengiz otomotiv, müşterilerine daha doğru fiyatlar teklif etmek için bir model oluşturmak istiyor."
   ]
  },
  {
   "cell_type": "code",
   "execution_count": 17,
   "id": "dc927eee-e46c-4964-a717-97fe4fcf89cb",
   "metadata": {},
   "outputs": [],
   "source": [
    "import numpy as np\n",
    "import pandas as pd\n",
    "from sklearn.linear_model import LinearRegression\n",
    "from sklearn.metrics import mean_squared_error, r2_score\n",
    "from sklearn.model_selection import train_test_split, GridSearchCV"
   ]
  },
  {
   "cell_type": "code",
   "execution_count": 4,
   "id": "bc3f90cd-1012-4273-9366-ec23b97d35c9",
   "metadata": {},
   "outputs": [],
   "source": [
    "# veri setinin oluşturulması\n",
    "# X bağımsız değişkeni kilometreleri\n",
    "# y bağımlı değişkeni ise satın alma fiyatlarını temsil ediyor.\n",
    "X = np.array([10, 20, 30, 40, 50, 60, 70, 80, 90, 100, 110, 120, 130, 140, 150, 160, 170, 180, 190, 200]).reshape(-1, 1)\n",
    "y = np.array([20, 25, 30, 35, 40, 45, 50, 55, 60, 65, 70, 75, 80, 85, 90, 95, 100, 105, 110, 115])"
   ]
  },
  {
   "cell_type": "code",
   "execution_count": 5,
   "id": "b4e5bf3d-c567-42c9-90a6-eba859a28e91",
   "metadata": {},
   "outputs": [
    {
     "data": {
      "text/plain": [
       "LinearRegression()"
      ]
     },
     "execution_count": 5,
     "metadata": {},
     "output_type": "execute_result"
    }
   ],
   "source": [
    "# modeli oluşturma ve eğitme\n",
    "\n",
    "model = LinearRegression()\n",
    "model.fit(X, y)"
   ]
  },
  {
   "cell_type": "code",
   "execution_count": 7,
   "id": "96e6ca8c-97de-444c-a095-abb8e5a1242c",
   "metadata": {},
   "outputs": [
    {
     "name": "stdout",
     "output_type": "stream",
     "text": [
      "R-kare değeri:  0.3270676691729323\n"
     ]
    }
   ],
   "source": [
    "# R-kare değeri\n",
    "\n",
    "r2_scoree = r2_score(X, y)\n",
    "print('R-kare değeri: ', r2_scoree)"
   ]
  },
  {
   "cell_type": "markdown",
   "id": "c32e0d2e-178f-4f8c-ad51-a2766391ceb6",
   "metadata": {},
   "source": [
    "#### R-kare değeri, modelin çok iyi olmadığını gösteriyor."
   ]
  },
  {
   "cell_type": "code",
   "execution_count": 9,
   "id": "d49bb583-f819-42f9-914b-a19dce28a3e3",
   "metadata": {},
   "outputs": [],
   "source": [
    "# Tahmin\n",
    "y_pred = model.predict(X)"
   ]
  },
  {
   "cell_type": "code",
   "execution_count": 10,
   "id": "fa138ed8-1152-464d-9e85-b604b7635fdc",
   "metadata": {},
   "outputs": [
    {
     "name": "stdout",
     "output_type": "stream",
     "text": [
      "Hata değeri:  5.869125134844328e-29\n"
     ]
    }
   ],
   "source": [
    "# Hata değeri\n",
    "\n",
    "mse = mean_squared_error(y, y_pred)\n",
    "print('Hata değeri: ', mse)"
   ]
  },
  {
   "cell_type": "markdown",
   "id": "35934bdb-f183-4038-8904-ae25c898bf2c",
   "metadata": {},
   "source": [
    "#### Modelin performansını arttırmak için, modele daha fazla özellik ekleyebiliriz. Mesela araba yaşını (yıl cinsinden) ekleyebiliriz. Ayrıca, modelimizin performansını ölçmek için, veri setimizi eğitim ve test setlerine ayırabilir ve modelimizi test setinde değerlendirebiliriz."
   ]
  },
  {
   "cell_type": "code",
   "execution_count": 12,
   "id": "657216df-9b53-45b2-8e2c-5ea925fbf212",
   "metadata": {},
   "outputs": [],
   "source": [
    "# veri setinin bağımsız değişkenlerine araba yaşı özelliğini de ekledik.\n",
    "\n",
    "\n",
    "X = np.array([[10, 1], [20, 2], [30, 3], [40, 4], [50, 5], [60, 6], [70, 7], [80, 8], [90, 9], [100, 10], [110, 11], [120, 12], [130, 13], [140, 14], [150, 15], [160, 16], [170, 17], [180, 18], [190, 19], [200, 20]])\n",
    "y = np.array([20, 25, 30, 35, 40, 45, 50, 55, 60, 65, 70, 75, 80, 85, 90, 95, 100, 105, 110, 115])"
   ]
  },
  {
   "cell_type": "code",
   "execution_count": 13,
   "id": "c8e50cd0-67d2-469a-80ad-7a39ee1eee71",
   "metadata": {},
   "outputs": [],
   "source": [
    "# veri setini eğitim ve test setlerine ayırma\n",
    "\n",
    "X_train, X_test, y_train, y_test = train_test_split(X, y, test_size=0.2, random_state=0)"
   ]
  },
  {
   "cell_type": "code",
   "execution_count": 14,
   "id": "72743c52-871a-447e-8e49-22ab700135ab",
   "metadata": {},
   "outputs": [],
   "source": [
    "# modeli eğitelim.\n",
    "\n",
    "reg = LinearRegression().fit(X_train, y_train)"
   ]
  },
  {
   "cell_type": "code",
   "execution_count": 15,
   "id": "3e1497a1-b563-4cb6-9f9a-5ac1cbaab875",
   "metadata": {},
   "outputs": [
    {
     "data": {
      "text/plain": [
       "array([110.,  25., 115.,  60.])"
      ]
     },
     "execution_count": 15,
     "metadata": {},
     "output_type": "execute_result"
    }
   ],
   "source": [
    "# Tahmin\n",
    "\n",
    "y_pred = reg.predict(X_test)\n",
    "y_pred[0:5]"
   ]
  },
  {
   "cell_type": "code",
   "execution_count": 16,
   "id": "a989d9f8-7e91-433e-87fd-51ab83ea381f",
   "metadata": {},
   "outputs": [
    {
     "name": "stdout",
     "output_type": "stream",
     "text": [
      "Hata değeri:  5.174927538249837e-28\n"
     ]
    }
   ],
   "source": [
    "# Hata Değeri\n",
    "\n",
    "mse = mean_squared_error(y_test, y_pred)\n",
    "print('Hata değeri: ', mse)"
   ]
  },
  {
   "cell_type": "code",
   "execution_count": 18,
   "id": "90b21d87-5b87-49cc-8920-4cade8fa5b15",
   "metadata": {},
   "outputs": [
    {
     "name": "stdout",
     "output_type": "stream",
     "text": [
      "En iyi parametreler:  {'copy_X': True, 'fit_intercept': True, 'normalize': True}\n",
      "En iyi skor:  nan\n"
     ]
    },
    {
     "name": "stderr",
     "output_type": "stream",
     "text": [
      "C:\\Users\\murat\\anaconda3\\lib\\site-packages\\sklearn\\model_selection\\_search.py:969: UserWarning: One or more of the test scores are non-finite: [nan nan nan nan nan nan nan nan]\n",
      "  warnings.warn(\n",
      "C:\\Users\\murat\\anaconda3\\lib\\site-packages\\sklearn\\linear_model\\_base.py:141: FutureWarning: 'normalize' was deprecated in version 1.0 and will be removed in 1.2.\n",
      "If you wish to scale the data, use Pipeline with a StandardScaler in a preprocessing stage. To reproduce the previous behavior:\n",
      "\n",
      "from sklearn.pipeline import make_pipeline\n",
      "\n",
      "model = make_pipeline(StandardScaler(with_mean=False), LinearRegression())\n",
      "\n",
      "If you wish to pass a sample_weight parameter, you need to pass it as a fit parameter to each step of the pipeline as follows:\n",
      "\n",
      "kwargs = {s[0] + '__sample_weight': sample_weight for s in model.steps}\n",
      "model.fit(X, y, **kwargs)\n",
      "\n",
      "\n",
      "  warnings.warn(\n"
     ]
    }
   ],
   "source": [
    "# Model Tuning İşlemi\n",
    "\n",
    "params = {'fit_intercept':[True, False], 'normalize':[True, False], 'copy_X':[True, False]}\n",
    "\n",
    "grid_search = GridSearchCV(estimator=reg, param_grid=params, cv=10, n_jobs=-1)\n",
    "grid_search.fit(X_train, y_train)\n",
    "\n",
    "print('En iyi parametreler: ', grid_search.best_params_)\n",
    "print('En iyi skor: ', grid_search.best_score_)"
   ]
  },
  {
   "cell_type": "code",
   "execution_count": 20,
   "id": "659ec58e-380b-4c2d-9cef-ae2296139f85",
   "metadata": {},
   "outputs": [
    {
     "data": {
      "text/plain": [
       "array([110.,  25., 115.,  60.])"
      ]
     },
     "execution_count": 20,
     "metadata": {},
     "output_type": "execute_result"
    }
   ],
   "source": [
    "# En iyi modeli kullanarak tahmin yapma\n",
    "\n",
    "y_pred = grid_search.predict(X_test)\n",
    "y_pred[0:5]"
   ]
  },
  {
   "cell_type": "code",
   "execution_count": 21,
   "id": "a80955bf-94cd-4bd6-9aa0-be08d9d68769",
   "metadata": {},
   "outputs": [
    {
     "name": "stdout",
     "output_type": "stream",
     "text": [
      "Hata Değeri:  1.2937318845624594e-28\n"
     ]
    }
   ],
   "source": [
    "# Hata Değeri\n",
    "\n",
    "mse = mean_squared_error(y_test, y_pred)\n",
    "print('Hata Değeri: ', mse)"
   ]
  },
  {
   "cell_type": "code",
   "execution_count": 23,
   "id": "2c7ae7aa-a12e-45a5-aac5-9a1327d736ef",
   "metadata": {},
   "outputs": [
    {
     "data": {
      "text/html": [
       "<div>\n",
       "<style scoped>\n",
       "    .dataframe tbody tr th:only-of-type {\n",
       "        vertical-align: middle;\n",
       "    }\n",
       "\n",
       "    .dataframe tbody tr th {\n",
       "        vertical-align: top;\n",
       "    }\n",
       "\n",
       "    .dataframe thead th {\n",
       "        text-align: right;\n",
       "    }\n",
       "</style>\n",
       "<table border=\"1\" class=\"dataframe\">\n",
       "  <thead>\n",
       "    <tr style=\"text-align: right;\">\n",
       "      <th></th>\n",
       "      <th>Gerçek Değerler</th>\n",
       "      <th>Tahmin Değerleri</th>\n",
       "    </tr>\n",
       "  </thead>\n",
       "  <tbody>\n",
       "    <tr>\n",
       "      <th>0</th>\n",
       "      <td>110</td>\n",
       "      <td>110.0</td>\n",
       "    </tr>\n",
       "    <tr>\n",
       "      <th>1</th>\n",
       "      <td>25</td>\n",
       "      <td>25.0</td>\n",
       "    </tr>\n",
       "    <tr>\n",
       "      <th>2</th>\n",
       "      <td>115</td>\n",
       "      <td>115.0</td>\n",
       "    </tr>\n",
       "    <tr>\n",
       "      <th>3</th>\n",
       "      <td>60</td>\n",
       "      <td>60.0</td>\n",
       "    </tr>\n",
       "  </tbody>\n",
       "</table>\n",
       "</div>"
      ],
      "text/plain": [
       "   Gerçek Değerler  Tahmin Değerleri\n",
       "0              110             110.0\n",
       "1               25              25.0\n",
       "2              115             115.0\n",
       "3               60              60.0"
      ]
     },
     "execution_count": 23,
     "metadata": {},
     "output_type": "execute_result"
    }
   ],
   "source": [
    "data = pd.DataFrame({\n",
    "    'Gerçek Değerler': y_test[0:5],\n",
    "    'Tahmin Değerleri': y_pred[0:5]\n",
    "})\n",
    "\n",
    "data"
   ]
  },
  {
   "cell_type": "markdown",
   "id": "49de9a46-afb8-4fe0-a0ed-97e9ee009082",
   "metadata": {},
   "source": [
    "#### Model tuning işlemi için GridSearchCV() fonksiyonunu kullanıyoruz. Bu fonksiyon, farklı hiperparametre değerlerinin kombinasyonlarını deneyerek en iyi parametreleri ve en iyi skoru bulur. Daha sonra, en iyi parametreleri kullanarak modeli tekrar eğitiriz ve test setindeki verileri kullanarak tahmin yaparız. Son olarak hata değerini hesaplarız.\n",
    "\n",
    "#### fit_intercept, normalize ve copy_X hiperparametreleri ile ilgili farklı değerler deniyoruz ve 10 k-fold cross validation yöntemini kullanıyoruz. En iyi parametreler fit_intercept=True, normalize=True, ve copy_X=True olarak belirleniyor. Model tuning işleminden sonra hata değeri düşürülmüş ve daha iyi bir model elde edilmiştir."
   ]
  }
 ],
 "metadata": {
  "kernelspec": {
   "display_name": "Python 3 (ipykernel)",
   "language": "python",
   "name": "python3"
  },
  "language_info": {
   "codemirror_mode": {
    "name": "ipython",
    "version": 3
   },
   "file_extension": ".py",
   "mimetype": "text/x-python",
   "name": "python",
   "nbconvert_exporter": "python",
   "pygments_lexer": "ipython3",
   "version": "3.9.12"
  }
 },
 "nbformat": 4,
 "nbformat_minor": 5
}
